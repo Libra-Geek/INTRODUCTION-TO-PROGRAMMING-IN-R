{
 "cells": [
  {
   "cell_type": "markdown",
   "metadata": {},
   "source": [
    "## **INTRODUCTION**\n",
    "\n",
    "- In the [introductory](https://github.com/Tess-hacker/INTRODUCTION-TO-PROGRAMMING-IN-R/blob/main/INTRODUCTION%20TO%20PROGRAMMING%20IN%20R.ipynb) and [second lessons](https://github.com/Tess-hacker/INTRODUCTION-TO-PROGRAMMING-IN-R/blob/main/ARITHMETIC%20EXPRESSIONS%20AND%20VARIABLES%20IN%20R.ipynb), we began our data science journey by learning the basics of programming in R, including:\n",
    "\n",
    "    - Literals and data types: Logical, Numeric, Integer, and Character.\n",
    "    \n",
    "    - Arithmetic operators: addition `(+)`, subtraction `(-)`, multiplication `(*)`, and division `(/)`, Exponentiation `(^)`, Integer division `(%/%)`, and Modulo `(%%)`.\n",
    "    \n",
    "    - Some R syntax rules: R is case-sensitive, R allows only one instruction per line of code, and operator priority.\n",
    "\n",
    "\n",
    "- To do so, we were using the following dataset extracted from a fruit market dataset. This dataset contains, for each day (day), the available fruits (item), the number of fruits sold (item sold), and remaining (item available). It also contains the purchase price and selling price of these fruits and whether a day is a supply day or not (supply): \n",
    "\n",
    "    | **S/NO** | **Day** | **Supply Day** | **Item** | **Purchase Price** | **Selling Price** | **Item Available** | **Item Sold** |\n",
    "    | --- | --- | --- | --- | --- | --- | --- | --- |\n",
    "    | 1\t| 1L | TRUE | \"Apple\" | 10.50 | 12.10 | 200L | 0L |\n",
    "    | 2 | 1L | TRUE | \"Mangoes\" | 21.15 | 24.90 | 50L | 0L |\n",
    "    | 3 | 1L | TRUE | \"Lemon\" | 3.20 | 4.99 | 500L | 0L |\n",
    "    | 4 | 2L | FALSE | \"Apple\"| 10.50 | 12.10 | 188L | 12L |\n",
    "    | 5 | 2L | FALSE | \"Mangoes\" | 21.15 | 24.90 | 47L | 3L |\n",
    "    | 6 | 2L | FALSE | \"Lemon\" | 3.20 |  4.99 | 476L | 24L |\n",
    "    \n",
    "    \n",
    "- In this lesson, we'll use the fruit market dataset and build new programming skills on top of what we have learned so far dealing with logical expressions. Logical expressions are based on logical literals. We learned that there are two of them — \"true\" and \"false\". In R, we write respectively `TRUE` and `FALSE` or simply `T` and `F` (we will notice that all letters are in UPPERCASE just as we discussed in previous lessons. \n",
    "\n",
    "\n",
    "- This lesson will revolve around the following topics:\n",
    "\n",
    "    - Relational operators\n",
    "    \n",
    "    - Comparing Arithmetic Expressions\n",
    "\n",
    "    - Logical operators\n",
    "\n",
    "    - Combining logical expression\n",
    "    \n",
    "\n",
    "- Let's dive right in."
   ]
  },
  {
   "cell_type": "markdown",
   "metadata": {},
   "source": [
    "## **RELATIONAL OPERATORS**\n",
    "\n",
    "- Here, we shall use the above dataset to explore relational operators. **Relational operators are used to compare between values**. So, comparison operations return logical values TRUE or FALSE. \n",
    "\n",
    "\n",
    "- Here are those available in R:\n",
    "\n",
    "    - Less than `(<)`,\n",
    "    \n",
    "    - Greater than `(>)`,\n",
    "    \n",
    "    - Less than or equal to `(<=)`,\n",
    "    \n",
    "    - Greater than or equal to `(>=)`,\n",
    "    \n",
    "    - Equal to `(==)`,\n",
    "    \n",
    "    - Not equal to `(!=)`.\n",
    "    \n",
    "\n",
    "- Let us explore some examples of how they are used:"
   ]
  },
  {
   "cell_type": "code",
   "execution_count": 1,
   "metadata": {
    "collapsed": true,
    "jupyter": {
     "outputs_hidden": true,
     "source_hidden": true
    }
   },
   "outputs": [
    {
     "data": {
      "text/html": [
       "FALSE"
      ],
      "text/latex": [
       "FALSE"
      ],
      "text/markdown": [
       "FALSE"
      ],
      "text/plain": [
       "[1] FALSE"
      ]
     },
     "metadata": {},
     "output_type": "display_data"
    },
    {
     "data": {
      "text/html": [
       "TRUE"
      ],
      "text/latex": [
       "TRUE"
      ],
      "text/markdown": [
       "TRUE"
      ],
      "text/plain": [
       "[1] TRUE"
      ]
     },
     "metadata": {},
     "output_type": "display_data"
    },
    {
     "data": {
      "text/html": [
       "FALSE"
      ],
      "text/latex": [
       "FALSE"
      ],
      "text/markdown": [
       "FALSE"
      ],
      "text/plain": [
       "[1] FALSE"
      ]
     },
     "metadata": {},
     "output_type": "display_data"
    },
    {
     "data": {
      "text/html": [
       "FALSE"
      ],
      "text/latex": [
       "FALSE"
      ],
      "text/markdown": [
       "FALSE"
      ],
      "text/plain": [
       "[1] FALSE"
      ]
     },
     "metadata": {},
     "output_type": "display_data"
    }
   ],
   "source": [
    "# Check if the number of apples is greater than the number of lemons available in the shop on day 1: \n",
    "200L > 500L\n",
    "# Check if the selling price of apples is less than or equal to the selling price of mangoes: \n",
    "12.10 <= 24.90\n",
    "# Check if the number of sold apples is greater than the number of sold lemons in the shop on day 2 using values in the item sold column.\n",
    "188L > 476L\n",
    "# Check if the purchase price of apples is equal to the purchase price of mangoes using values in the purchase price column.\n",
    "10.50 == 21.15"
   ]
  },
  {
   "cell_type": "markdown",
   "metadata": {
    "jupyter": {
     "source_hidden": true
    }
   },
   "source": [
    "## **COMPARING ARITHMETIC EXPRESSIONS**\n",
    "\n",
    "- In the previous lesson, we learned relational operators to compare values. Actually, it is also possible to compare variables and arithmetic expressions. Let us check an instance below:"
   ]
  },
  {
   "cell_type": "code",
   "execution_count": 2,
   "metadata": {
    "collapsed": true,
    "jupyter": {
     "outputs_hidden": true,
     "source_hidden": true
    }
   },
   "outputs": [
    {
     "data": {
      "text/html": [
       "TRUE"
      ],
      "text/latex": [
       "TRUE"
      ],
      "text/markdown": [
       "TRUE"
      ],
      "text/plain": [
       "[1] TRUE"
      ]
     },
     "metadata": {},
     "output_type": "display_data"
    }
   ],
   "source": [
    "# We can check if the profit (selling price minus purchase price) on the sale of an apple is less than the profit on the sale of a mango:\n",
    "12.10 - 10.50 < 24.90 - 21.15"
   ]
  },
  {
   "cell_type": "markdown",
   "metadata": {
    "jupyter": {
     "source_hidden": true
    }
   },
   "source": [
    "- R does not directly compare the expressions but rather their results. Hence, in our example, the expressions `12.10 - 10.50 and 24.90 - 21.15` are first evaluated to respectively `1.6 and 3.75`, and then these values are compared: `1.6 < 3.75`. This was clearly explained in the second lesson for this topic. You should check it out if you have any reservations.\n",
    "\n",
    "\n",
    "- Alternatively, we can compute each fruit profit and store the results in variables and then compare these variables. Let's do that below:"
   ]
  },
  {
   "cell_type": "code",
   "execution_count": 3,
   "metadata": {
    "collapsed": true,
    "jupyter": {
     "outputs_hidden": true,
     "source_hidden": true
    }
   },
   "outputs": [
    {
     "data": {
      "text/html": [
       "TRUE"
      ],
      "text/latex": [
       "TRUE"
      ],
      "text/markdown": [
       "TRUE"
      ],
      "text/plain": [
       "[1] TRUE"
      ]
     },
     "metadata": {},
     "output_type": "display_data"
    }
   ],
   "source": [
    "apple_profit <- 12.10 - 10.50 \n",
    "mango_profit <- 24.90 - 21.15\n",
    "\n",
    "apple_profit < mango_profit"
   ]
  },
  {
   "cell_type": "markdown",
   "metadata": {
    "jupyter": {
     "source_hidden": true
    }
   },
   "source": [
    "- Finally, we can also store the result in a variable below:"
   ]
  },
  {
   "cell_type": "code",
   "execution_count": 4,
   "metadata": {
    "collapsed": true,
    "jupyter": {
     "outputs_hidden": true,
     "source_hidden": true
    }
   },
   "outputs": [
    {
     "data": {
      "text/html": [
       "TRUE"
      ],
      "text/latex": [
       "TRUE"
      ],
      "text/markdown": [
       "TRUE"
      ],
      "text/plain": [
       "[1] TRUE"
      ]
     },
     "metadata": {},
     "output_type": "display_data"
    }
   ],
   "source": [
    "logical_var <- apple_profit < mango_profit\n",
    "logical_var"
   ]
  },
  {
   "cell_type": "markdown",
   "metadata": {},
   "source": [
    "- In terms of operator priority, keep in mind that **all arithmetic expression are evaluated first then logical expressions.**\n",
    "\n",
    "- Let's practice more on the use of logical expressions."
   ]
  },
  {
   "cell_type": "code",
   "execution_count": 6,
   "metadata": {},
   "outputs": [
    {
     "data": {
      "text/html": [
       "FALSE"
      ],
      "text/latex": [
       "FALSE"
      ],
      "text/markdown": [
       "FALSE"
      ],
      "text/plain": [
       "[1] FALSE"
      ]
     },
     "metadata": {},
     "output_type": "display_data"
    }
   ],
   "source": [
    "apple_sold <- 12.10 * 12L\n",
    "lemon_sold <- 4.99 * 24L\n",
    "logical_var <- apple_sold == lemon_sold\n",
    "logical_var"
   ]
  },
  {
   "cell_type": "markdown",
   "metadata": {},
   "source": [
    "## **LOGICAL OPERATORS**\n",
    "\n",
    "- In the previous sub-topic, we learned relational operators using this dataset of a fruit market. In this lesson, we will use the same dataset to explore the logical operators. \n",
    "\n",
    "\n",
    "- **Logical operators are used to combine logicals**. Logical operations, such as AND, OR, and NOT, return logical values `TRUE` or `FALSE`. Here are those available in R:\n",
    "\n",
    "    - Logical NOT `(!)`,\n",
    "    \n",
    "    - Logical AND `(&&)`,\n",
    "    \n",
    "    - Logical OR `(||)`.\n",
    "\n",
    "\n",
    "- Note that the symbol `|` uses for the logical OR is called a **pipe.** It was not the letter \"L\". To get it, it commonly requires the combination of keys. Typically, it is `shift + \\`. If this combination does not work, search online \"pipe symbol\" specifying your keyboard type.\n",
    "\n",
    "\n",
    "- Here is a table showing the use of the three logical operators and the yielding results:\n",
    "    | **NOT** | **AND** | **OR** | \n",
    "    | --- | --- | --- | \n",
    "    | `!TRUE` yields `FALSE`\t| `TRUE&&TRUE` yields `TRUE` | `TRUE*OR*TRUE` yields `TRUE` | \n",
    "    | `!FALSE` yields `TRUE` | `TRUE&&FALSE` yields `FALSE` | `TRUE *OR*FALSE` yields `TRUE` | \n",
    "    |  | `FALSE&&TRUE` yields `FALSE` | `FALSE*OR*TRUE` yields `TRUE` |  \n",
    "    |  | `FALSE&&FALSE` yields `FALSE` | `FALSE*OR*FALSE` yields `FALSE` |  \n",
    "    \n",
    "    \n",
    "- Note that:**I used *or* in place of the `||` sign because of the [rules](https://stackoverflow.com/questions/48655801/tables-in-markdown-in-jupyter/48657695) of creating a table in Jupyter which does not accomodate the sign. \n",
    "\n",
    "\n",
    "- All the operators we have seen so far are binary operators except the logical NOT which is an unary operator. A binary operator needs two elements (to the left and to the right of the operator like 2 + 5) whereas a binary operator needs only one element (to the right of the operator like !TRUE).    "
   ]
  },
  {
   "cell_type": "code",
   "execution_count": 7,
   "metadata": {},
   "outputs": [
    {
     "data": {
      "text/html": [
       "TRUE"
      ],
      "text/latex": [
       "TRUE"
      ],
      "text/markdown": [
       "TRUE"
      ],
      "text/plain": [
       "[1] TRUE"
      ]
     },
     "metadata": {},
     "output_type": "display_data"
    },
    {
     "data": {
      "text/html": [
       "FALSE"
      ],
      "text/latex": [
       "FALSE"
      ],
      "text/markdown": [
       "FALSE"
      ],
      "text/plain": [
       "[1] FALSE"
      ]
     },
     "metadata": {},
     "output_type": "display_data"
    },
    {
     "data": {
      "text/html": [
       "TRUE"
      ],
      "text/latex": [
       "TRUE"
      ],
      "text/markdown": [
       "TRUE"
      ],
      "text/plain": [
       "[1] TRUE"
      ]
     },
     "metadata": {},
     "output_type": "display_data"
    }
   ],
   "source": [
    "TRUE||FALSE\n",
    "FALSE&&TRUE\n",
    "!FALSE"
   ]
  },
  {
   "cell_type": "markdown",
   "metadata": {},
   "source": [
    "## **COMBINING LOGICAL EXPRESSION**\n",
    "\n",
    "- Like simple arithmetic expressions, simple logical expressions can be combined into complex logical expressions. **A complex logical expression represents the combination of several simple logical expressions using logical operators we learned in the previous screen.**\n",
    "\n",
    "\n",
    "- Let's assume that we have the `apple_profit <- 12.10 - 10.50` variable. We want to check if `apple_profit` is between `1` and `3`, i.e., `apple_profit` is greater than or equal to `1` AND `apple_profit` is less than or equal to `3`. Here's what we will do:"
   ]
  },
  {
   "cell_type": "code",
   "execution_count": 8,
   "metadata": {},
   "outputs": [
    {
     "data": {
      "text/html": [
       "TRUE"
      ],
      "text/latex": [
       "TRUE"
      ],
      "text/markdown": [
       "TRUE"
      ],
      "text/plain": [
       "[1] TRUE"
      ]
     },
     "metadata": {},
     "output_type": "display_data"
    }
   ],
   "source": [
    "apple_profit <- 12.10 - 10.50 \n",
    "apple_profit >= 1 && apple_profit <= 3"
   ]
  },
  {
   "cell_type": "markdown",
   "metadata": {},
   "source": [
    "- To evaluate this expression, the simple logical expressions `apple_profit >= 1` and `apple_profit <= 3` are first evaluated to respectively `TRUE` and `TRUE`, and then these values are combined: `TRUE && TRUE`.\n",
    "\n",
    "- In terms of operator priority, keep in mind that **all simple logical expressions are evaluated first then their results are combined with logical operators.** If we have to establish a general priority rule of including all the operators we learned so far we will say that the elements are evaluated in the following order: \n",
    "\n",
    "    - Parentheses,\n",
    "        \n",
    "    - Exponentiation,\n",
    "        \n",
    "    - Division and multiplication,\n",
    "        \n",
    "    - Addition and subtraction,\n",
    "        \n",
    "    - Relational operators,\n",
    "        \n",
    "    - Logical operators.\n",
    "\n",
    "\n",
    "- Let us practice more:"
   ]
  },
  {
   "cell_type": "code",
   "execution_count": 11,
   "metadata": {},
   "outputs": [
    {
     "data": {
      "text/html": [
       "1.6"
      ],
      "text/latex": [
       "1.6"
      ],
      "text/markdown": [
       "1.6"
      ],
      "text/plain": [
       "[1] 1.6"
      ]
     },
     "metadata": {},
     "output_type": "display_data"
    },
    {
     "data": {
      "text/html": [
       "3.75"
      ],
      "text/latex": [
       "3.75"
      ],
      "text/markdown": [
       "3.75"
      ],
      "text/plain": [
       "[1] 3.75"
      ]
     },
     "metadata": {},
     "output_type": "display_data"
    },
    {
     "data": {
      "text/html": [
       "1.79"
      ],
      "text/latex": [
       "1.79"
      ],
      "text/markdown": [
       "1.79"
      ],
      "text/plain": [
       "[1] 1.79"
      ]
     },
     "metadata": {},
     "output_type": "display_data"
    },
    {
     "data": {
      "text/html": [
       "TRUE"
      ],
      "text/latex": [
       "TRUE"
      ],
      "text/markdown": [
       "TRUE"
      ],
      "text/plain": [
       "[1] TRUE"
      ]
     },
     "metadata": {},
     "output_type": "display_data"
    }
   ],
   "source": [
    "# total cost of sold apple on day 2\n",
    "apple_profit <- 12.10 - 10.50\n",
    "# total cost of sold mango on day 2\n",
    "mango_profit <- 24.90 - 21.15\n",
    "# total cost of sold lemon on day 2\n",
    "lemon_profit <- 4.99 - 3.20\n",
    "logical_var <- apple_profit <= mango_profit || apple_profit > lemon_profit\n",
    "apple_profit\n",
    "mango_profit\n",
    "lemon_profit\n",
    "logical_var"
   ]
  },
  {
   "cell_type": "markdown",
   "metadata": {},
   "source": [
    "## **CONCLUSION**\n",
    "\n",
    "- In this lesson, we learned how to:\n",
    "\n",
    "    - Generate logical values with logical operations,\n",
    "    \n",
    "    - Combine logical and arithmetic expressions,\n",
    "    \n",
    "    - Create complex logical expressions with logical operators.\n",
    "\n",
    "\n",
    "- In the next lesson, we'll delve deeper into what a data analysis workflow is about. We'll learn more skills crucial for using R to work with data, like loading, exploring, visualizing data."
   ]
  }
 ],
 "metadata": {
  "kernelspec": {
   "display_name": "R",
   "language": "R",
   "name": "ir"
  },
  "language_info": {
   "codemirror_mode": "r",
   "file_extension": ".r",
   "mimetype": "text/x-r-source",
   "name": "R",
   "pygments_lexer": "r",
   "version": "3.6.1"
  }
 },
 "nbformat": 4,
 "nbformat_minor": 4
}
