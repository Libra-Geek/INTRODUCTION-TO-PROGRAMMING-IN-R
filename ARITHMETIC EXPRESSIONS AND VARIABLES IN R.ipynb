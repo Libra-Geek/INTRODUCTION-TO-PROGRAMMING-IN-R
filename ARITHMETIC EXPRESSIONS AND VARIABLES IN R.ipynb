{
 "cells": [
  {
   "cell_type": "markdown",
   "metadata": {},
   "source": [
    "# **INTRODUCTION**\n",
    "\n",
    "- Welcome to the second part of this course. If you have no knowledge whatsoever in R programming, then you should check out the [first lesson](https://github.com/Tess-hacker/INTRODUCTION-TO-PROGRAMMING-IN-R/blob/main/INTRODUCTION%20TO%20PROGRAMMING%20IN%20R.ipynb) of the course as I will be subsequently referring to it as we move on in the course.\n",
    "\n",
    "\n",
    "- In this course, the following are the topics to be treated:\n",
    "\n",
    "    - Dealing with Advanced Arithmetic Operations\n",
    "    \n",
    "    - Using Complex Arithmetic Expression\n",
    "    \n",
    "    - Dealing with Operator Priority Rules\n",
    "    \n",
    "    - Identifying Expression's Data Type\n",
    "    \n",
    "    - Dealing Variables with Naming Rules\n",
    "    \n",
    "    - Updating variables\n",
    "    \n",
    "    - Identifying variables data type\n",
    "    \n",
    "    - R Syntax: Best Practice\n",
    "    \n",
    "    \n",
    "- Looks like a lot, right? Don't worry, you'll have crazy fun while learning. Without further ado, let us get this thing going!"
   ]
  },
  {
   "cell_type": "markdown",
   "metadata": {},
   "source": [
    "## **DEALING WITH ADVANCED ARITHMETIC OPERATORS**\n",
    "\n",
    "- In the previous lesson, we learnt four basic arithmetic operations we can use in R programming. Here, I would introduce you to more advanced arithmetic operations that R can perform. They are:\n",
    "\n",
    "    - Exponentiation represented with the `^` sign\n",
    "    \n",
    "    - Integer division represented by `%/%`\n",
    "    \n",
    "    - Modulo represented by `%%`\n",
    "    \n",
    "    \n",
    "- **Exponentiation** - This involves raising a number to a power `n`. In other words, it is the multiplication of a number by itself raised to a certain number of times.\n",
    "\n",
    "\n",
    "- **Integer Division** - It refers to the maximum number of times that `n` can be found in `x` given that we have the integer division of `x %/% n`. Remember that `x` and `n` can be represented by integers.\n",
    "\n",
    "\n",
    "- **Modulo** - This returns the rest of the integer division of `x` by `n`. Therefore, in the case where we have a division with a remainder, the modulo operation returns this value."
   ]
  },
  {
   "cell_type": "code",
   "execution_count": 1,
   "metadata": {},
   "outputs": [
    {
     "data": {
      "text/html": [
       "25"
      ],
      "text/latex": [
       "25"
      ],
      "text/markdown": [
       "25"
      ],
      "text/plain": [
       "[1] 25"
      ]
     },
     "metadata": {},
     "output_type": "display_data"
    },
    {
     "data": {
      "text/html": [
       "34359738368"
      ],
      "text/latex": [
       "34359738368"
      ],
      "text/markdown": [
       "34359738368"
      ],
      "text/plain": [
       "[1] 34359738368"
      ]
     },
     "metadata": {},
     "output_type": "display_data"
    },
    {
     "data": {
      "text/html": [
       "3"
      ],
      "text/latex": [
       "3"
      ],
      "text/markdown": [
       "3"
      ],
      "text/plain": [
       "[1] 3"
      ]
     },
     "metadata": {},
     "output_type": "display_data"
    }
   ],
   "source": [
    "128 %/% 5\n",
    "128 ^ 5\n",
    "128 %% 5"
   ]
  },
  {
   "cell_type": "markdown",
   "metadata": {},
   "source": [
    "## **USING COMPLEX ARITHMETIC OPERATIONS**\n",
    "\n",
    "- Now that we have learnt new advanced numeric operations in R programming, we should apply to a dataset. Below is a table of data which we can use:\n",
    "\n",
    "\n",
    "| **S/NO** | **Day** | **Supply Day** | **Item** | **Purchase Price** | **Selling Price** | **Item Available** | **Item Sold** |\n",
    "| --- | --- | --- | --- | --- | --- | --- | --- |\n",
    "| 1\t| 1L | TRUE | \"Apple\" | 10.50 | 12.10 | 200L | 0L |\n",
    "| 2 | 1L | TRUE | \"Mangoes\" | 21.15 | 24.90 | 50L | 0L |\n",
    "| 3 | 1L | TRUE | \"Lemon\" | 3.20 | 4.99 | 500L | 0L |\n",
    "| 4 | 2L | FALSE | \"Apple\"| 10.50 | 12.10 | 188L | 12L |\n",
    "| 5 | 2L | FALSE | \"Mangoes\" | 21.15 | 24.90 | 47L | 3L |\n",
    "| 6 | 2L | FALSE | \"Lemon\" | 3.20 |  4.99 | 476L | 24L |\n",
    "\n",
    "\n",
    "- Let us perform complex expressions with the dataset above:"
   ]
  },
  {
   "cell_type": "code",
   "execution_count": 2,
   "metadata": {},
   "outputs": [
    {
     "data": {
      "text/html": [
       "'The total cost of purchasing apples on day 1:'"
      ],
      "text/latex": [
       "'The total cost of purchasing apples on day 1:'"
      ],
      "text/markdown": [
       "'The total cost of purchasing apples on day 1:'"
      ],
      "text/plain": [
       "[1] \"The total cost of purchasing apples on day 1:\""
      ]
     },
     "metadata": {},
     "output_type": "display_data"
    },
    {
     "data": {
      "text/html": [
       "2100"
      ],
      "text/latex": [
       "2100"
      ],
      "text/markdown": [
       "2100"
      ],
      "text/plain": [
       "[1] 2100"
      ]
     },
     "metadata": {},
     "output_type": "display_data"
    },
    {
     "data": {
      "text/html": [
       "'The total cost of purchasing mangoes on day 1:'"
      ],
      "text/latex": [
       "'The total cost of purchasing mangoes on day 1:'"
      ],
      "text/markdown": [
       "'The total cost of purchasing mangoes on day 1:'"
      ],
      "text/plain": [
       "[1] \"The total cost of purchasing mangoes on day 1:\""
      ]
     },
     "metadata": {},
     "output_type": "display_data"
    },
    {
     "data": {
      "text/html": [
       "1057.5"
      ],
      "text/latex": [
       "1057.5"
      ],
      "text/markdown": [
       "1057.5"
      ],
      "text/plain": [
       "[1] 1057.5"
      ]
     },
     "metadata": {},
     "output_type": "display_data"
    },
    {
     "data": {
      "text/html": [
       "'The total cost of purchasing lemons on day 1:'"
      ],
      "text/latex": [
       "'The total cost of purchasing lemons on day 1:'"
      ],
      "text/markdown": [
       "'The total cost of purchasing lemons on day 1:'"
      ],
      "text/plain": [
       "[1] \"The total cost of purchasing lemons on day 1:\""
      ]
     },
     "metadata": {},
     "output_type": "display_data"
    },
    {
     "data": {
      "text/html": [
       "1600"
      ],
      "text/latex": [
       "1600"
      ],
      "text/markdown": [
       "1600"
      ],
      "text/plain": [
       "[1] 1600"
      ]
     },
     "metadata": {},
     "output_type": "display_data"
    },
    {
     "data": {
      "text/html": [
       "'The sum total of all figures:'"
      ],
      "text/latex": [
       "'The sum total of all figures:'"
      ],
      "text/markdown": [
       "'The sum total of all figures:'"
      ],
      "text/plain": [
       "[1] \"The sum total of all figures:\""
      ]
     },
     "metadata": {},
     "output_type": "display_data"
    },
    {
     "data": {
      "text/html": [
       "4757.5"
      ],
      "text/latex": [
       "4757.5"
      ],
      "text/markdown": [
       "4757.5"
      ],
      "text/plain": [
       "[1] 4757.5"
      ]
     },
     "metadata": {},
     "output_type": "display_data"
    }
   ],
   "source": [
    "\"The total cost of purchasing apples on day 1:\"\n",
    "10.50 * 200L\n",
    "\"The total cost of purchasing mangoes on day 1:\"\n",
    "21.15 * 50\n",
    "\"The total cost of purchasing lemons on day 1:\"\n",
    "3.20 * 500\n",
    "\"The sum total of all figures:\"\n",
    "10.50*200L+21.15 * 50+3.20 * 500"
   ]
  },
  {
   "cell_type": "markdown",
   "metadata": {},
   "source": [
    "## **DEALING WITH MARKDOWN OPERATOR PRIORITY RULES**\n",
    "\n",
    "- R evaluates complex expressions with the same order of operations used in mathematics. We refer to this order as the **operator priority rules**. They are as follows:\n",
    "\n",
    "    - Parentheses are calculated first, then exponentiation, then division and multiplication, and finally, addition and subtraction.\n",
    "\n",
    "\n",
    "- We can use parentheses `()` to override the priority rule. For example, the expression `(2 + 3) * 5` yields `25` rather than `17`. In this case, the expression in parentheses is first evaluated to `5`, and then the expression `5 * 5` yields `25`."
   ]
  },
  {
   "cell_type": "code",
   "execution_count": 3,
   "metadata": {},
   "outputs": [
    {
     "data": {
      "text/html": [
       "'The predicted selling cost of apples on day 1:'"
      ],
      "text/latex": [
       "'The predicted selling cost of apples on day 1:'"
      ],
      "text/markdown": [
       "'The predicted selling cost of apples on day 1:'"
      ],
      "text/plain": [
       "[1] \"The predicted selling cost of apples on day 1:\""
      ]
     },
     "metadata": {},
     "output_type": "display_data"
    },
    {
     "data": {
      "text/html": [
       "2420"
      ],
      "text/latex": [
       "2420"
      ],
      "text/markdown": [
       "2420"
      ],
      "text/plain": [
       "[1] 2420"
      ]
     },
     "metadata": {},
     "output_type": "display_data"
    },
    {
     "data": {
      "text/html": [
       "'The predicted selling cost of mangoes on day 1:'"
      ],
      "text/latex": [
       "'The predicted selling cost of mangoes on day 1:'"
      ],
      "text/markdown": [
       "'The predicted selling cost of mangoes on day 1:'"
      ],
      "text/plain": [
       "[1] \"The predicted selling cost of mangoes on day 1:\""
      ]
     },
     "metadata": {},
     "output_type": "display_data"
    },
    {
     "data": {
      "text/html": [
       "1245"
      ],
      "text/latex": [
       "1245"
      ],
      "text/markdown": [
       "1245"
      ],
      "text/plain": [
       "[1] 1245"
      ]
     },
     "metadata": {},
     "output_type": "display_data"
    },
    {
     "data": {
      "text/html": [
       "'The predicted selling cost of lemons on day 1:'"
      ],
      "text/latex": [
       "'The predicted selling cost of lemons on day 1:'"
      ],
      "text/markdown": [
       "'The predicted selling cost of lemons on day 1:'"
      ],
      "text/plain": [
       "[1] \"The predicted selling cost of lemons on day 1:\""
      ]
     },
     "metadata": {},
     "output_type": "display_data"
    },
    {
     "data": {
      "text/html": [
       "2495"
      ],
      "text/latex": [
       "2495"
      ],
      "text/markdown": [
       "2495"
      ],
      "text/plain": [
       "[1] 2495"
      ]
     },
     "metadata": {},
     "output_type": "display_data"
    },
    {
     "data": {
      "text/html": [
       "'The overall predicted selling cost of all fruits on day 1:'"
      ],
      "text/latex": [
       "'The overall predicted selling cost of all fruits on day 1:'"
      ],
      "text/markdown": [
       "'The overall predicted selling cost of all fruits on day 1:'"
      ],
      "text/plain": [
       "[1] \"The overall predicted selling cost of all fruits on day 1:\""
      ]
     },
     "metadata": {},
     "output_type": "display_data"
    },
    {
     "data": {
      "text/html": [
       "6160"
      ],
      "text/latex": [
       "6160"
      ],
      "text/markdown": [
       "6160"
      ],
      "text/plain": [
       "[1] 6160"
      ]
     },
     "metadata": {},
     "output_type": "display_data"
    }
   ],
   "source": [
    "\"The predicted selling cost of apples on day 1:\"\n",
    "12.10 * 200L\n",
    "\"The predicted selling cost of mangoes on day 1:\"\n",
    "24.90 * 50L\n",
    "\"The predicted selling cost of lemons on day 1:\"\n",
    "4.99 * 500L\n",
    "\"The overall predicted selling cost of all fruits on day 1:\"\n",
    "(12.10 * 200L) + (24.90 * 50L) + (4.99 * 500L)"
   ]
  },
  {
   "cell_type": "markdown",
   "metadata": {},
   "source": [
    "## **IDENTIFYING EXPRESSION'S DATA TYPE**\n",
    "\n",
    "- Did you see how the operator priority rule worked up there? Now, you are probably wondering what this sub-topic is all about. Or what an expression data type is? Let me help you out.\n",
    "\n",
    "\n",
    "- The values used in an expression will determine its data type. The output from that expression will also have the same data type. We can identify it using the data type transformation rules. There are two rules:\n",
    "\n",
    "    - Operations between values of the same data type yield that **same data type**. For example, `2L * 2L * 2L` yields an Integer data type because `2L` is an integer.\n",
    "\n",
    "    - Operations between values of different data types will result in the **highest data type**. From highest to lowest, the data types are ranked: \n",
    "    \n",
    "        - Numeric, \n",
    "        \n",
    "        - Integer, and \n",
    "        \n",
    "        - Logical.\n",
    "    \n",
    "    - For example, the expression `12.10 * 12L` between a numeric and an integer yields a Numeric data type because it is the higher data type."
   ]
  },
  {
   "cell_type": "code",
   "execution_count": 4,
   "metadata": {},
   "outputs": [
    {
     "data": {
      "text/html": [
       "'What is the type of the following expression: 2 * 2 * 2?'"
      ],
      "text/latex": [
       "'What is the type of the following expression: 2 * 2 * 2?'"
      ],
      "text/markdown": [
       "'What is the type of the following expression: 2 * 2 * 2?'"
      ],
      "text/plain": [
       "[1] \"What is the type of the following expression: 2 * 2 * 2?\""
      ]
     },
     "metadata": {},
     "output_type": "display_data"
    },
    {
     "data": {
      "text/html": [
       "'ANSWER: Numeric'"
      ],
      "text/latex": [
       "'ANSWER: Numeric'"
      ],
      "text/markdown": [
       "'ANSWER: Numeric'"
      ],
      "text/plain": [
       "[1] \"ANSWER: Numeric\""
      ]
     },
     "metadata": {},
     "output_type": "display_data"
    },
    {
     "data": {
      "text/html": [
       "'What is the type of the following expression: 2L * 2L * 2?'"
      ],
      "text/latex": [
       "'What is the type of the following expression: 2L * 2L * 2?'"
      ],
      "text/markdown": [
       "'What is the type of the following expression: 2L * 2L * 2?'"
      ],
      "text/plain": [
       "[1] \"What is the type of the following expression: 2L * 2L * 2?\""
      ]
     },
     "metadata": {},
     "output_type": "display_data"
    },
    {
     "data": {
      "text/html": [
       "'ANSWER: Numeric'"
      ],
      "text/latex": [
       "'ANSWER: Numeric'"
      ],
      "text/markdown": [
       "'ANSWER: Numeric'"
      ],
      "text/plain": [
       "[1] \"ANSWER: Numeric\""
      ]
     },
     "metadata": {},
     "output_type": "display_data"
    },
    {
     "data": {
      "text/html": [
       "'What is the type of the following expression: 2L * 2L * 2L?'"
      ],
      "text/latex": [
       "'What is the type of the following expression: 2L * 2L * 2L?'"
      ],
      "text/markdown": [
       "'What is the type of the following expression: 2L * 2L * 2L?'"
      ],
      "text/plain": [
       "[1] \"What is the type of the following expression: 2L * 2L * 2L?\""
      ]
     },
     "metadata": {},
     "output_type": "display_data"
    },
    {
     "data": {
      "text/html": [
       "'ANSWER: Integer'"
      ],
      "text/latex": [
       "'ANSWER: Integer'"
      ],
      "text/markdown": [
       "'ANSWER: Integer'"
      ],
      "text/plain": [
       "[1] \"ANSWER: Integer\""
      ]
     },
     "metadata": {},
     "output_type": "display_data"
    }
   ],
   "source": [
    "\"What is the type of the following expression: 2 * 2 * 2?\"\n",
    "\"ANSWER: Numeric\"\n",
    "\n",
    "\"What is the type of the following expression: 2L * 2L * 2?\"\n",
    "\"ANSWER: Numeric\"\n",
    "\n",
    "\"What is the type of the following expression: 2L * 2L * 2L?\"\n",
    "\"ANSWER: Integer\""
   ]
  },
  {
   "cell_type": "markdown",
   "metadata": {},
   "source": [
    "## **DEALING VARIABLES WITH NAMING RULES**\n",
    "\n",
    "- We did an excellent job so far! However, we would have liked to do things more automatically, and not have to copy expression values and repeat the same operations. To do that, we need to create variables.\n",
    "\n",
    "\n",
    "- To create a variable, we need to undergo two major steps:\n",
    "\n",
    "    - Create the variable name.\n",
    "    \n",
    "    - Assign values (or expressions) to the variable name using the **symbol `<-` (less-than, minus)**. We create a variable in order to be able to reuse it. Behind the scene, a variable declaration allocates memory space in your computer to store the value it contains. We want to do similar things with our previous lessons in order to use them afterward.\n",
    "    \n",
    "    \n",
    "- To name a variable, there are five naming rules to follow.\n",
    "\n",
    "    - Variable names consists of letters (upper or lower case), numbers, a dot (.), or an underscore (_).\n",
    "    \n",
    "    - We can begin a variable name with a letter or a dot, but dots cannot be followed by a number.\n",
    "    \n",
    "    - We cannot begin a variable name with a number.\n",
    "    \n",
    "    - No special characters are allowed, e.g., spaces, operator's symbols, \", parentheses.\n",
    "        \n",
    "    - We cannot use a keyword already used and interpreted by R as a variable name.\n",
    "\n",
    "\n",
    "- Below is a list of variable names, numbered from 1 to 5. Using naming rules, **answer TRUE if the variable name is valid and FALSE otherwise**. Store each answer (TRUE/FALSE) in variables named q_1 to q_5, respectively (one answer per line). \n",
    "\n",
    "\n",
    "- Ready? LET'S GO!!!"
   ]
  },
  {
   "cell_type": "code",
   "execution_count": 5,
   "metadata": {},
   "outputs": [
    {
     "data": {
      "text/html": [
       "'.2var'"
      ],
      "text/latex": [
       "'.2var'"
      ],
      "text/markdown": [
       "'.2var'"
      ],
      "text/plain": [
       "[1] \".2var\""
      ]
     },
     "metadata": {},
     "output_type": "display_data"
    },
    {
     "data": {
      "text/html": [
       "'numberOfFruit'"
      ],
      "text/latex": [
       "'numberOfFruit'"
      ],
      "text/markdown": [
       "'numberOfFruit'"
      ],
      "text/plain": [
       "[1] \"numberOfFruit\""
      ]
     },
     "metadata": {},
     "output_type": "display_data"
    },
    {
     "data": {
      "text/html": [
       "'apple variable'"
      ],
      "text/latex": [
       "'apple variable'"
      ],
      "text/markdown": [
       "'apple variable'"
      ],
      "text/plain": [
       "[1] \"apple variable\""
      ]
     },
     "metadata": {},
     "output_type": "display_data"
    },
    {
     "data": {
      "text/html": [
       "'var'"
      ],
      "text/latex": [
       "'var'"
      ],
      "text/markdown": [
       "'var'"
      ],
      "text/plain": [
       "[1] \"var\""
      ]
     },
     "metadata": {},
     "output_type": "display_data"
    },
    {
     "data": {
      "text/html": [
       "'age20+'"
      ],
      "text/latex": [
       "'age20+'"
      ],
      "text/markdown": [
       "'age20+'"
      ],
      "text/plain": [
       "[1] \"age20+\""
      ]
     },
     "metadata": {},
     "output_type": "display_data"
    }
   ],
   "source": [
    "\".2var\"\n",
    "q_1 <- FALSE\n",
    "\"numberOfFruit\"\n",
    "q_2 <- TRUE    \n",
    "\"apple variable\"\n",
    "q_3 <- FALSE    \n",
    "\"var\"\n",
    "q_4 <- FALSE    \n",
    "\"age20+\"\n",
    "q_5 <- FALSE"
   ]
  },
  {
   "cell_type": "markdown",
   "metadata": {},
   "source": [
    "## **UPDATING VARIABLES**\n",
    "\n",
    "- In the previous sub-topic, we learned how to name a variable. Here, we learn how to use/update a variable. A variable assignment workflow consists of putting the value at the right of the assignment symbol in the memory space allocated to the variable at the left of the assignment symbol represented by its name. If there is a previous value in this memory it is overwritten by the new one. \n",
    "\n",
    "\n",
    "- Also, an expression can be assigned to a variable. For instance, `var_2  <- 10.50 * 2`. When an expression is assigned to a variable, it is not the expression itself that is stored in the computer memory but rather **the output value after the evaluation of that expression.**\n",
    "\n",
    "\n",
    "- Let's practice the use of variables by repeating the exercise of calculating the overall predicted profit in a cleaner way using variables."
   ]
  },
  {
   "cell_type": "code",
   "execution_count": 6,
   "metadata": {},
   "outputs": [
    {
     "data": {
      "text/html": [
       "1402.5"
      ],
      "text/latex": [
       "1402.5"
      ],
      "text/markdown": [
       "1402.5"
      ],
      "text/plain": [
       "[1] 1402.5"
      ]
     },
     "metadata": {},
     "output_type": "display_data"
    }
   ],
   "source": [
    "total_day1_purchase_cost <- 10.50 * 200L + 21.15 * 50L + 3.20 * 500L\n",
    "total_day1_selling_cost <- 12.10 * 200 + 24.90 * 50 + 4.99 * 500\n",
    "total_day1_profit <- total_day1_selling_cost - total_day1_purchase_cost\n",
    "total_day1_profit"
   ]
  },
  {
   "cell_type": "markdown",
   "metadata": {},
   "source": [
    "## **IDENTIFYING VARIABLES DATA TYPE**\n",
    "\n",
    "- The power of R comes essentially from the availability of a bunch of built-in programs that allow you to perform (elementary) several kinds of data science tasks. These small programs are called **functions.** The functions are grouped by topic/utility called **package.** R is installed by default with some packages containing useful functions such as **base and stats packages.** In this lesson, we only learn how to use some of them. Moving forward, we will be learning other functions.\n",
    "\n",
    "\n",
    "- The first function we will see is the `class()` function. It allows us to **identify literal/variable data types.** We use it by indicating the function name following by the variable whose data type we want in brackets. Let us experiment using this function on the variables we defined in the precedent exercise below:\n"
   ]
  },
  {
   "cell_type": "code",
   "execution_count": 7,
   "metadata": {},
   "outputs": [
    {
     "data": {
      "text/html": [
       "'numeric'"
      ],
      "text/latex": [
       "'numeric'"
      ],
      "text/markdown": [
       "'numeric'"
      ],
      "text/plain": [
       "[1] \"numeric\""
      ]
     },
     "metadata": {},
     "output_type": "display_data"
    },
    {
     "data": {
      "text/html": [
       "'numeric'"
      ],
      "text/latex": [
       "'numeric'"
      ],
      "text/markdown": [
       "'numeric'"
      ],
      "text/plain": [
       "[1] \"numeric\""
      ]
     },
     "metadata": {},
     "output_type": "display_data"
    },
    {
     "data": {
      "text/html": [
       "'numeric'"
      ],
      "text/latex": [
       "'numeric'"
      ],
      "text/markdown": [
       "'numeric'"
      ],
      "text/plain": [
       "[1] \"numeric\""
      ]
     },
     "metadata": {},
     "output_type": "display_data"
    }
   ],
   "source": [
    "class1 = class(total_day1_purchase_cost)\n",
    "class2 = class(total_day1_selling_cost)\n",
    "class3 = class(total_day1_profit)\n",
    "class1\n",
    "class2\n",
    "class3"
   ]
  },
  {
   "cell_type": "markdown",
   "metadata": {},
   "source": [
    "## **R SYNTAX : BEST PRACTICE**\n",
    "\n",
    "- So far we've used space characters between numbers and operators (+, -, *, /, ^ are operators). For instance, we've used `2 * 2 * 2*` instead of `2*2*2.` But R's syntax rules do not enforce this, so both `2 * 2 * 2` and `2*2*2` will run correctly.\n",
    "\n",
    "\n",
    "- You would also have noticed that we use `_` to separate the words in our variable name. For instance, we've used `total_purchase_cost` instead of something else. Once again R's syntax rules do not impose this style on you. As long as you respect the naming rules, we have learned, your code will run correctly.\n",
    "\n",
    "\n",
    "- The computer executes code from the first line downwards and ignores blank lines. Besides blank lines, the computer also ignores any sequence of characters that comes to the right of the # symbol. This sequence of characters that follows the # symbol is called a code comment. We can also use code comments to add information about our code."
   ]
  }
 ],
 "metadata": {
  "kernelspec": {
   "display_name": "R",
   "language": "R",
   "name": "ir"
  },
  "language_info": {
   "codemirror_mode": "r",
   "file_extension": ".r",
   "mimetype": "text/x-r-source",
   "name": "R",
   "pygments_lexer": "r",
   "version": "3.6.1"
  }
 },
 "nbformat": 4,
 "nbformat_minor": 4
}
