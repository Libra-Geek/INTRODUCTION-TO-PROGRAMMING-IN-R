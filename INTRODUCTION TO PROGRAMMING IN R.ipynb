{
 "cells": [
  {
   "cell_type": "markdown",
   "metadata": {},
   "source": [
    "# **INTRODUCTION**\n",
    "\n",
    "- There are a variety of computer languages that we can use for programming. We'll focus on learning R, a language that offers excellent support for data science work. \n",
    "\n",
    "- This lesson will be a mere introduction and will be as short and fun as possible. The topics that will be covered in this lesson are:\n",
    "\n",
    "    - Literal Values (Logicals)\n",
    "    \n",
    "    - Literal Values (Numerics)\n",
    "    \n",
    "    - Literal Values (Integers)\n",
    "    \n",
    "    - Literal Values (Character)\n",
    "    \n",
    "    - Arithmetic Operations : Simple Expression\n",
    "    \n",
    "    - R Syntax\n",
    "    \n",
    "- So, sit back and relax. Put those fingers on the keyboard and follow me on this beautiful journey. At the end of the whole module, **you'll be analysing data with R like a pro**."
   ]
  },
  {
   "cell_type": "markdown",
   "metadata": {},
   "source": [
    "## **LITERAL VALUES (LOGICALS)**\n",
    "\n",
    "- We will begin this beautiful journey by starting with the R logicals. **Literal Value is any part of a statement or expression that is used exactly as it is meant to be interpreted.** \n",
    "\n",
    "\n",
    "- In R, there are five categories of literal values which are: **Logical, Integer, Numeric, Character and Complex**. Here, we will be covering the logical literal values. \n",
    "\n",
    "\n",
    "- Logical literal values are categorized into *true* and *false* values. In R, we write them **in uppercase characters** and represent them as **T** and **F** or **TRUE** and **FALSE**. TRUE can be represented with the number `1` while FALSE can be represented with the number `0`.\n",
    "\n",
    "\n",
    "- Logical literals are typically used in R for testing. For example, to compare two values (greater, less, or equal). The logical value is the result of the test.\n",
    "\n",
    "- The format of writing TRUE or FALSE matters a lot. They must always be in full caps i.e. FALSE, TRUE and not true,True, false, False, t, f. Let's try experimenting:"
   ]
  },
  {
   "cell_type": "code",
   "execution_count": 1,
   "metadata": {},
   "outputs": [
    {
     "data": {
      "text/html": [
       "TRUE"
      ],
      "text/latex": [
       "TRUE"
      ],
      "text/markdown": [
       "TRUE"
      ],
      "text/plain": [
       "[1] TRUE"
      ]
     },
     "metadata": {},
     "output_type": "display_data"
    },
    {
     "data": {
      "text/html": [
       "FALSE"
      ],
      "text/latex": [
       "FALSE"
      ],
      "text/markdown": [
       "FALSE"
      ],
      "text/plain": [
       "[1] FALSE"
      ]
     },
     "metadata": {},
     "output_type": "display_data"
    },
    {
     "ename": "ERROR",
     "evalue": "Error in eval(expr, envir, enclos): object 'true' not found\n",
     "output_type": "error",
     "traceback": [
      "Error in eval(expr, envir, enclos): object 'true' not found\nTraceback:\n"
     ]
    }
   ],
   "source": [
    "TRUE\n",
    "FALSE\n",
    "true\n",
    "false\n",
    "True\n",
    "False"
   ]
  },
  {
   "cell_type": "markdown",
   "metadata": {},
   "source": [
    "- We can see that an error was returned when we didn't follow the format. So, you should **always take note of the syntax used**. Now let us move to the next topic."
   ]
  },
  {
   "cell_type": "markdown",
   "metadata": {},
   "source": [
    "## **LITERAL VALUES: NUMERICS**\n",
    "\n",
    "- We have previously talked about literals. Here, we would examine numerics. \n",
    "\n",
    "\n",
    "- Generally, there are two categories of numerics:\n",
    "\n",
    "    - Integers : 125, 10, 4\n",
    "    \n",
    "    - Decimals: 18.6, 20.5\n",
    "    \n",
    "    \n",
    "- Note that **the point in the decimals are used to separate the integer part from the decimal part of the numbers**. Let us write a code below to see how R represents both decimals and integers."
   ]
  },
  {
   "cell_type": "code",
   "execution_count": 3,
   "metadata": {},
   "outputs": [
    {
     "data": {
      "text/html": [
       "125"
      ],
      "text/latex": [
       "125"
      ],
      "text/markdown": [
       "125"
      ],
      "text/plain": [
       "[1] 125"
      ]
     },
     "metadata": {},
     "output_type": "display_data"
    },
    {
     "data": {
      "text/html": [
       "100"
      ],
      "text/latex": [
       "100"
      ],
      "text/markdown": [
       "100"
      ],
      "text/plain": [
       "[1] 100"
      ]
     },
     "metadata": {},
     "output_type": "display_data"
    },
    {
     "data": {
      "text/html": [
       "4"
      ],
      "text/latex": [
       "4"
      ],
      "text/markdown": [
       "4"
      ],
      "text/plain": [
       "[1] 4"
      ]
     },
     "metadata": {},
     "output_type": "display_data"
    },
    {
     "data": {
      "text/html": [
       "18.6"
      ],
      "text/latex": [
       "18.6"
      ],
      "text/markdown": [
       "18.6"
      ],
      "text/plain": [
       "[1] 18.6"
      ]
     },
     "metadata": {},
     "output_type": "display_data"
    },
    {
     "data": {
      "text/html": [
       "20.5"
      ],
      "text/latex": [
       "20.5"
      ],
      "text/markdown": [
       "20.5"
      ],
      "text/plain": [
       "[1] 20.5"
      ]
     },
     "metadata": {},
     "output_type": "display_data"
    },
    {
     "data": {
      "text/html": [
       "4e-07"
      ],
      "text/latex": [
       "4e-07"
      ],
      "text/markdown": [
       "4e-07"
      ],
      "text/plain": [
       "[1] 4e-07"
      ]
     },
     "metadata": {},
     "output_type": "display_data"
    },
    {
     "data": {
      "text/html": [
       "20.50007"
      ],
      "text/latex": [
       "20.50007"
      ],
      "text/markdown": [
       "20.50007"
      ],
      "text/plain": [
       "[1] 20.50007"
      ]
     },
     "metadata": {},
     "output_type": "display_data"
    }
   ],
   "source": [
    "125\n",
    "100\n",
    "4\n",
    "18.6\n",
    "20.5\n",
    "0.0000004\n",
    "20.50007"
   ]
  },
  {
   "cell_type": "markdown",
   "metadata": {},
   "source": [
    "- Pay attention to the penultimate decimal number, it was presented in the scientific form to prevent redundancy in writing the zeros contained in the number. Let's combine logical and numeric literals and experiment some more."
   ]
  },
  {
   "cell_type": "code",
   "execution_count": 5,
   "metadata": {},
   "outputs": [
    {
     "data": {
      "text/html": [
       "FALSE"
      ],
      "text/latex": [
       "FALSE"
      ],
      "text/markdown": [
       "FALSE"
      ],
      "text/plain": [
       "[1] FALSE"
      ]
     },
     "metadata": {},
     "output_type": "display_data"
    },
    {
     "data": {
      "text/html": [
       "0.012"
      ],
      "text/latex": [
       "0.012"
      ],
      "text/markdown": [
       "0.012"
      ],
      "text/plain": [
       "[1] 0.012"
      ]
     },
     "metadata": {},
     "output_type": "display_data"
    }
   ],
   "source": [
    "FALSE\n",
    "0.012"
   ]
  },
  {
   "cell_type": "markdown",
   "metadata": {},
   "source": [
    "## **LITERAL VALUES: INTEGERS**\n",
    "\n",
    "- Moving on, we can now examing integer literal values. \n",
    "\n",
    "\n",
    "- In case you didn't catch it, you should know that **R represents all numerics (either decimal or integer) as an integer.** So, in the case where we want to only deal with integers, we just make use of capital letter **L** which is used to force R to consider numbers as integer literals without the decimals. Remember that the letter **must always be capitalized**. \n",
    "\n",
    "\n",
    "- Let us find the application of this letter below:"
   ]
  },
  {
   "cell_type": "code",
   "execution_count": 6,
   "metadata": {},
   "outputs": [
    {
     "data": {
      "text/html": [
       "125"
      ],
      "text/latex": [
       "125"
      ],
      "text/markdown": [
       "125"
      ],
      "text/plain": [
       "[1] 125"
      ]
     },
     "metadata": {},
     "output_type": "display_data"
    },
    {
     "data": {
      "text/html": [
       "100"
      ],
      "text/latex": [
       "100"
      ],
      "text/markdown": [
       "100"
      ],
      "text/plain": [
       "[1] 100"
      ]
     },
     "metadata": {},
     "output_type": "display_data"
    },
    {
     "data": {
      "text/html": [
       "3"
      ],
      "text/latex": [
       "3"
      ],
      "text/markdown": [
       "3"
      ],
      "text/plain": [
       "[1] 3"
      ]
     },
     "metadata": {},
     "output_type": "display_data"
    },
    {
     "data": {
      "text/html": [
       "12"
      ],
      "text/latex": [
       "12"
      ],
      "text/markdown": [
       "12"
      ],
      "text/plain": [
       "[1] 12"
      ]
     },
     "metadata": {},
     "output_type": "display_data"
    }
   ],
   "source": [
    "125L\n",
    "100L\n",
    "3L\n",
    "12L"
   ]
  },
  {
   "cell_type": "markdown",
   "metadata": {},
   "source": [
    "- Integer and numeric literals have various uses in R. They are used in several expressions (arithmetic). They are also used to express the quantity or characterize a datum such as the age of an interviewee, the temperature in a geographical area, etc. "
   ]
  },
  {
   "cell_type": "markdown",
   "metadata": {},
   "source": [
    "## **LITERAL VALUES : CHARACTERS**\n",
    "\n",
    "- We have discovered previously that many symbols, letters or words (T, F, L, e, E, TRUE, FALSE) are used by R to accomplish some tasks. However, sometimes we want to use words and characters as they are without any interpretation from R. These are called **character literals.**\n",
    "\n",
    "\n",
    "- Character literals are represented by wrapping them in double quotation marks `(\")` or single quotation marks `(')`. Quotes or apostrophes allow us to assign distinguishing character values to other literal values (Integer, Logical, and Numeric).\n",
    "\n",
    "\n",
    "- Note that **Mixing quotes and apostrophes in the same character value is not admitted**. For instance, \"Hello\" won't represent a character word if we have written, \"Hello' or 'Hello\".\n",
    "\n",
    "\n",
    "- Also, if we use \"FALSE\" (with quotes) R doesn't consider it as a logical literal but as a character literal. Similarly, \"12.4\" is not deemed as a numeric literal but as a character literal as well.\n",
    "\n",
    "\n",
    "- Character literals are typically used in data analysis to store qualitative data. Here are some examples:\n",
    "\n",
    "    - The weather condition is \"soft\" or \"harsh\". \n",
    "    \n",
    "    - I \"like\" or \"dislike\" a dish. \n",
    "    \n",
    "    - A person is either \"young\", \"middle\", or \"old\".\n",
    "    \n",
    "    \n",
    "- Character literal is an essential data type and knowing how to deal with it is an asset in analyzing your data. Let us find out its application below:"
   ]
  },
  {
   "cell_type": "code",
   "execution_count": 7,
   "metadata": {},
   "outputs": [
    {
     "data": {
      "text/html": [
       "'Disagree'"
      ],
      "text/latex": [
       "'Disagree'"
      ],
      "text/markdown": [
       "'Disagree'"
      ],
      "text/plain": [
       "[1] \"Disagree\""
      ]
     },
     "metadata": {},
     "output_type": "display_data"
    },
    {
     "data": {
      "text/html": [
       "'Agree'"
      ],
      "text/latex": [
       "'Agree'"
      ],
      "text/markdown": [
       "'Agree'"
      ],
      "text/plain": [
       "[1] \"Agree\""
      ]
     },
     "metadata": {},
     "output_type": "display_data"
    }
   ],
   "source": [
    "\"Disagree\"\n",
    "\"Agree\""
   ]
  },
  {
   "cell_type": "markdown",
   "metadata": {},
   "source": [
    "## **ARITHMETIC OPERATIONS: SIMPLE EXPRESSION**\n",
    "\n",
    "- Here, we would practicalize using arithmetic operators with R literals. In other words, we can perform addition, subtraction, multiplication and division on R literals. Check out a demonstration below:"
   ]
  },
  {
   "cell_type": "code",
   "execution_count": 8,
   "metadata": {},
   "outputs": [
    {
     "data": {
      "text/html": [
       "3.75"
      ],
      "text/latex": [
       "3.75"
      ],
      "text/markdown": [
       "3.75"
      ],
      "text/plain": [
       "[1] 3.75"
      ]
     },
     "metadata": {},
     "output_type": "display_data"
    },
    {
     "data": {
      "text/html": [
       "74.7"
      ],
      "text/latex": [
       "74.7"
      ],
      "text/markdown": [
       "74.7"
      ],
      "text/plain": [
       "[1] 74.7"
      ]
     },
     "metadata": {},
     "output_type": "display_data"
    },
    {
     "data": {
      "text/html": [
       "FALSE"
      ],
      "text/latex": [
       "FALSE"
      ],
      "text/markdown": [
       "FALSE"
      ],
      "text/plain": [
       "[1] FALSE"
      ]
     },
     "metadata": {},
     "output_type": "display_data"
    }
   ],
   "source": [
    "24.90 - 21.15\n",
    "3L * 24.90\n",
    "FALSE"
   ]
  },
  {
   "cell_type": "markdown",
   "metadata": {},
   "source": [
    "## **R SYNTAX**\n",
    "\n",
    "- Here, we are going to decipher what we have done so far in the programming sense. Programming consists of providing the computer with a set of instructions to perform some tasks. This set of instructions is called a program.\n",
    "\n",
    "\n",
    "- In programming terminology, a program is called **code** and each instruction (line) in that code is called **a line of code.**\n",
    "\n",
    "\n",
    "- To be understood by the computer, programming languages — including R — impose some rules, named **syntax rules**. If this syntax is not respected, an error is raised. So far in learning R, you should have observed the following ground rules:\n",
    "\n",
    "    - R is **case-sensitive** meaning that if you use full caps or lower case letters, it makes a huge difference to the results given by R.\n",
    "    \n",
    "    - R **only allows one instruction per line of code**. This implies that if you write two literals on the same line of code, R would return an error. \n",
    "    \n",
    "    \n",
    "- Let's check out whether this really applies below:"
   ]
  },
  {
   "cell_type": "code",
   "execution_count": 9,
   "metadata": {},
   "outputs": [
    {
     "ename": "ERROR",
     "evalue": "Error in parse(text = x, srcfile = src): <text>:2:7: unexpected numeric constant\n1: FALSE\n2: FALSE TRUE\n         ^\n",
     "output_type": "error",
     "traceback": [
      "Error in parse(text = x, srcfile = src): <text>:2:7: unexpected numeric constant\n1: FALSE\n2: FALSE TRUE\n         ^\nTraceback:\n"
     ]
    }
   ],
   "source": [
    "FALSE\n",
    "FALSE TRUE\n",
    "False\n",
    "True"
   ]
  },
  {
   "cell_type": "markdown",
   "metadata": {},
   "source": [
    "# **CONCLUSION**\n",
    "\n",
    "- We have found out that the R syntax really applies and you should take care to bear this in mind at all times going forward.\n",
    "\n",
    "\n",
    "- You have been introduced to literals and other basic elements in R. In the next lesson, you will be introduced to the concept of variable and the complex arithmetic expressions and their rules.\n",
    "\n",
    "\n",
    "- So, fasten your seatbelts as you become a R pro!"
   ]
  }
 ],
 "metadata": {
  "kernelspec": {
   "display_name": "R",
   "language": "R",
   "name": "ir"
  },
  "language_info": {
   "codemirror_mode": "r",
   "file_extension": ".r",
   "mimetype": "text/x-r-source",
   "name": "R",
   "pygments_lexer": "r",
   "version": "3.6.1"
  }
 },
 "nbformat": 4,
 "nbformat_minor": 4
}
